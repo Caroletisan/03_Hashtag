{
 "cells": [
  {
   "cell_type": "markdown",
   "metadata": {},
   "source": [
    "### Tipos de Variáveis em Python"
   ]
  },
  {
   "cell_type": "markdown",
   "metadata": {},
   "source": [
    "Uma variável é um objeto, afinal tudo é um objeto em Python\n",
    "\n",
    "int -> inteiro<br>\n",
    "string -> texto<br>\n",
    "float -> números com casas decimais (ponto flutuante)<br>\n",
    "bool ou boolean -> True ou False<br>\n",
    "\n",
    "Obs: Variáveis em Python não são declaradas explicitamente, mas isso não significa que você deve ficar mudando o tempo todo\n",
    "\n",
    "Obs2: Cuidado com os nomes restritos (arquivo para Download)"
   ]
  },
  {
   "cell_type": "code",
   "execution_count": 1,
   "metadata": {},
   "outputs": [
    {
     "data": {
      "text/plain": [
       "int"
      ]
     },
     "execution_count": 1,
     "metadata": {},
     "output_type": "execute_result"
    }
   ],
   "source": [
    "faturamento = 1000\n",
    "type(faturamento)"
   ]
  },
  {
   "cell_type": "code",
   "execution_count": 2,
   "metadata": {},
   "outputs": [
    {
     "data": {
      "text/plain": [
       "float"
      ]
     },
     "execution_count": 2,
     "metadata": {},
     "output_type": "execute_result"
    }
   ],
   "source": [
    "faturamento = 1000.00\n",
    "type(faturamento)"
   ]
  },
  {
   "cell_type": "code",
   "execution_count": 3,
   "metadata": {},
   "outputs": [
    {
     "data": {
      "text/plain": [
       "str"
      ]
     },
     "execution_count": 3,
     "metadata": {},
     "output_type": "execute_result"
    }
   ],
   "source": [
    "faturamento = '1.000'\n",
    "type(faturamento)"
   ]
  },
  {
   "cell_type": "code",
   "execution_count": 4,
   "metadata": {},
   "outputs": [
    {
     "data": {
      "text/plain": [
       "bool"
      ]
     },
     "execution_count": 4,
     "metadata": {},
     "output_type": "execute_result"
    }
   ],
   "source": [
    "ganha_bonus = True\n",
    "type(ganha_bonus)"
   ]
  },
  {
   "cell_type": "markdown",
   "metadata": {},
   "source": [
    "### Lista de palavras que não podem ser usadas em uma variável\n",
    "abs |\n",
    "all |\n",
    "and |\n",
    "any |\n",
    "as |\n",
    "ascii |\n",
    "assert |\n",
    "bin |\n",
    "bool |\n",
    "break |\n",
    "breakpoint |\n",
    "bytearray |\n",
    "bytes |\n",
    "callable |\n",
    "chr |\n",
    "class |\n",
    "classmethod |\n",
    "compile |\n",
    "complex |\n",
    "continue |\n",
    "def |\n",
    "del |\n",
    "delattr |\n",
    "dict |\n",
    "dir |\n",
    "divmod |\n",
    "elif |\n",
    "else |\n",
    "enumerate |\n",
    "eval |\n",
    "except |\n",
    "exec |\n",
    "False |\n",
    "filter |\n",
    "finally |\n",
    "float |\n",
    "for |\n",
    "format |\n",
    "from |\n",
    "frozenset |\n",
    "getattr |\n",
    "global |\n",
    "globals |\n",
    "hasattr |\n",
    "hash |\n",
    "help |\n",
    "hex |\n",
    "id |\n",
    "if |\n",
    "import |\n",
    "in |\n",
    "input |\n",
    "int |\n",
    "is |\n",
    "isinstance |\n",
    "issubclass | \n",
    "iter |\n",
    "lambda |\n",
    "len |\n",
    "list |\n",
    "locals |\n",
    "map |\n",
    "max |\n",
    "memoryview |\n",
    "min |\n",
    "next |\n",
    "None |\n",
    "nonlocal |\n",
    "not |\n",
    "object |\n",
    "oct |\n",
    "open |\n",
    "or |\n",
    "ord |\n",
    "pass |\n",
    "pow |\n",
    "print |\n",
    "property |\n",
    "raise |\n",
    "range |\n",
    "repr |\n",
    "return |\n",
    "reversed |\n",
    "round |\n",
    "set |\n",
    "setattr |\n",
    "slice |\n",
    "sorted |\n",
    "staticmethod |\n",
    "str |\n",
    "sum |\n",
    "super |\n",
    "True |\n",
    "try |\n",
    "tuple |\n",
    "type |\n",
    "vars |\n",
    "while |\n",
    "with |\n",
    "yield |\n",
    "zip |"
   ]
  },
  {
   "cell_type": "markdown",
   "metadata": {},
   "source": [
    "### Manipulando tipos de variáveis\n",
    "    Para concatenar variáveis diferentes temos que transformar a variável no formato que queremos exibir"
   ]
  },
  {
   "cell_type": "code",
   "execution_count": 17,
   "metadata": {},
   "outputs": [
    {
     "name": "stdout",
     "output_type": "stream",
     "text": [
      "O faturamento da loja foi 2000\n",
      "O custo da loja foi 500\n",
      "Assim, o lucro da loja foi de 1500 reais\n",
      "O faturamento da loja foi 2000. O custo da loja foi 500. Assim, o lucro da loja foi de 1500 reais.\n"
     ]
    }
   ],
   "source": [
    "faturamento = 2000\n",
    "custo = 500\n",
    "lucro = faturamento - custo\n",
    "\n",
    "# type(faturamento)\n",
    "\n",
    "print ('O faturamento da loja foi ' + str(faturamento))\n",
    "print('O custo da loja foi ' + str(custo))\n",
    "print('Assim, o lucro da loja foi de ' + str(lucro) + ' reais')\n",
    "print ('O faturamento da loja foi ' + str(faturamento) + '. O custo da loja foi ' + str(custo) + '. Assim, o lucro da loja foi de ' + str(lucro) + ' reais.')"
   ]
  },
  {
   "cell_type": "markdown",
   "metadata": {},
   "source": [
    "### Método Format\n",
    "    Com o método format, dentro da string, primeiro colocamos um chave {} no lugar da variavel e depois passamos a variavel formatada"
   ]
  },
  {
   "cell_type": "code",
   "execution_count": 22,
   "metadata": {},
   "outputs": [
    {
     "name": "stdout",
     "output_type": "stream",
     "text": [
      "O faturamento da loja foi 2000. O custo da loja foi 500. Assim, o lucro da loja foi de 1500 reais.\n"
     ]
    }
   ],
   "source": [
    "faturamento = 2000\n",
    "custo = 500\n",
    "lucro = faturamento - custo\n",
    "\n",
    "print('O faturamento da loja foi {}. O custo da loja foi {}. Assim, o lucro da loja foi de {} reais.' .format(faturamento, custo, lucro))"
   ]
  },
  {
   "cell_type": "markdown",
   "metadata": {},
   "source": [
    "### Fstring\n",
    "    É uma forma conveniente de formatar strings de maneira mais eficiente e legível e permitem a interpolação de variáveis e expressões dentro de strings"
   ]
  },
  {
   "cell_type": "code",
   "execution_count": 24,
   "metadata": {},
   "outputs": [
    {
     "name": "stdout",
     "output_type": "stream",
     "text": [
      "O faturamento foi de 1000. e o lucro de 600.\n"
     ]
    }
   ],
   "source": [
    "faturamento = 1000\n",
    "custo = 400\n",
    "\n",
    "lucro = faturamento - custo\n",
    "\n",
    "print(f'O faturamento foi de {faturamento}. e o lucro de {lucro}.')"
   ]
  },
  {
   "cell_type": "markdown",
   "metadata": {},
   "source": [
    "### Mudança de Tipos de Variáveis"
   ]
  },
  {
   "cell_type": "code",
   "execution_count": 27,
   "metadata": {},
   "outputs": [
    {
     "name": "stdout",
     "output_type": "stream",
     "text": [
      "<class 'int'>\n",
      "<class 'int'>\n",
      "600\n"
     ]
    }
   ],
   "source": [
    "faturamento = int(input(\"Insira o faturamento\"))\n",
    "custo = int(input(\"Insira o custo\"))\n",
    "\n",
    "print(type(faturamento))\n",
    "print(type(custo))\n",
    "\n",
    "lucro = faturamento - custo\n",
    "\n",
    "print(lucro)\n",
    "\n",
    "# str -> muda pra string\n",
    "# int -> muda para inteiro\n",
    "# float -> muda para float"
   ]
  },
  {
   "cell_type": "code",
   "execution_count": null,
   "metadata": {},
   "outputs": [],
   "source": []
  }
 ],
 "metadata": {
  "kernelspec": {
   "display_name": "Python 3",
   "language": "python",
   "name": "python3"
  },
  "language_info": {
   "codemirror_mode": {
    "name": "ipython",
    "version": 3
   },
   "file_extension": ".py",
   "mimetype": "text/x-python",
   "name": "python",
   "nbconvert_exporter": "python",
   "pygments_lexer": "ipython3",
   "version": "3.11.4"
  }
 },
 "nbformat": 4,
 "nbformat_minor": 4
}
